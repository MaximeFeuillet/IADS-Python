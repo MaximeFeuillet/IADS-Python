{
  "nbformat": 4,
  "nbformat_minor": 0,
  "metadata": {
    "colab": {
      "name": "Avocado.ipynb",
      "provenance": [],
      "collapsed_sections": [],
      "authorship_tag": "ABX9TyNAnDkJqeIyv3fjVbjBFgVW",
      "include_colab_link": true
    },
    "kernelspec": {
      "name": "python3",
      "display_name": "Python 3"
    },
    "language_info": {
      "name": "python"
    }
  },
  "cells": [
    {
      "cell_type": "markdown",
      "metadata": {
        "id": "view-in-github",
        "colab_type": "text"
      },
      "source": [
        "<a href=\"https://colab.research.google.com/github/MaximeFeuillet/IADS-Python/blob/main/Avocado.ipynb\" target=\"_parent\"><img src=\"https://colab.research.google.com/assets/colab-badge.svg\" alt=\"Open In Colab\"/></a>"
      ]
    },
    {
      "cell_type": "markdown",
      "metadata": {
        "id": "PmziTBWLNa1J"
      },
      "source": [
        "Importing relevant package"
      ]
    },
    {
      "cell_type": "code",
      "metadata": {
        "id": "Jd2jYcEb5DiI"
      },
      "source": [
        "import csv\n",
        "from datetime import datetime\n",
        "from google.colab import files"
      ],
      "execution_count": 179,
      "outputs": []
    },
    {
      "cell_type": "markdown",
      "metadata": {
        "id": "h0MDswl3Nge_"
      },
      "source": [
        "Implement a simple program to read a csv document and print the content"
      ]
    },
    {
      "cell_type": "code",
      "metadata": {
        "id": "CVJMyrxvNM54"
      },
      "source": [
        "with open('avocado.csv') as csvfile:\n",
        "    readCSV = csv.DictReader(csvfile, delimiter=',')\n",
        "    avocadosales = []\n",
        "    for col in readCSV:\n",
        "        print(col['Date'],col['AveragePrice'], col['Total Volume'], col['Total Bags'],col['Small Bags'],col['Large Bags'],col['XLarge Bags'], col['year'],col['region'] )"
      ],
      "execution_count": null,
      "outputs": []
    },
    {
      "cell_type": "markdown",
      "metadata": {
        "id": "mSFgn8H2NmPD"
      },
      "source": [
        "Create an class to represent the Avocado prices"
      ]
    },
    {
      "cell_type": "code",
      "metadata": {
        "id": "86WRvu3P5xpB"
      },
      "source": [
        "class Avocado:\n",
        "\n",
        "  def __init__(self,date,avgPrice,totalVolume,totalBags,smallBags,largeBags,xlargeBags,year,region):\n",
        "        self.date = date\n",
        "        self.avgPrice = avgPrice\n",
        "        self.totalVolume = totalVolume\n",
        "        self.totalBags = totalBags\n",
        "        self.smallBags = smallBags\n",
        "        self.largeBags = largeBags\n",
        "        self.xlargeBags = xlargeBags\n",
        "        self.year = year\n",
        "        self.region = region\n",
        "        \n",
        "  def printer(self):\n",
        "        print(self.date,self.avgPrice,self.totalVolume,self.totalBags,self.smallBags,self.largeBags,self.xlargeBags,self.year,self.region)\n",
        "        \n",
        "  def printer2(self):\n",
        "        print(self)"
      ],
      "execution_count": 170,
      "outputs": []
    },
    {
      "cell_type": "markdown",
      "metadata": {
        "id": "CHCWGqgSN6RR"
      },
      "source": [
        "Create an object for each row of the given csv document and put all of them into a list\n",
        "\n",
        "\n",
        "Print the contents of the list in a for loop using the printer() function of \n",
        "the Avocado class\n",
        "\n"
      ]
    },
    {
      "cell_type": "code",
      "metadata": {
        "id": "f3IvTGuJ5cfX"
      },
      "source": [
        "listAvocado = []\n",
        "with open('/content/avocado.csv') as csvfile:\n",
        "        readCSV = csv.DictReader(csvfile, delimiter=',')\n",
        "        for col in readCSV:\n",
        "          # creating an objetc for each row\n",
        "            avocado=Avocado(col['Date'],col['AveragePrice'], col['Total Volume'], col['Total Bags'],col['Small Bags'],col['Large Bags'],col['XLarge Bags'], col['year'],col['region'])\n",
        "          # putting them in a list   \n",
        "            listAvocado.append(avocado)\n",
        "\n",
        "# printing the content of the objects using printer()\n",
        "for elt in listAvocado:\n",
        "  elt.printer()\n",
        "  \n",
        "# printing the content of the list using printer() (print the pointer)\n",
        "for elt in listAvocado:\n",
        "  elt.printer2()"
      ],
      "execution_count": null,
      "outputs": []
    },
    {
      "cell_type": "markdown",
      "metadata": {
        "id": "dtAskXXAQrLo"
      },
      "source": [
        "Print the contents of the list in a for loop using the print function"
      ]
    },
    {
      "cell_type": "code",
      "metadata": {
        "id": "GItaygUTAM7A"
      },
      "source": [
        "# printing the content of the list using printer() (print the pointer)\n",
        "for elt in listAvocado:\n",
        "  print(elt)\n",
        "\n",
        "# printing the content of the objects using printer()\n",
        "for elt in listAvocado:\n",
        "  print(elt.date,elt.avgPrice,elt.totalVolume,elt.totalBags,elt.smallBags,elt.largeBags,elt.xlargeBags,elt.year,elt.region)"
      ],
      "execution_count": null,
      "outputs": []
    }
  ]
}